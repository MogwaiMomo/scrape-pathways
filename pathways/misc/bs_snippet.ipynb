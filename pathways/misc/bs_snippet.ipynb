{
 "cells": [
  {
   "cell_type": "code",
   "execution_count": 2,
   "id": "a2ba19f8-1d68-404c-8997-7eb271a9e2e8",
   "metadata": {},
   "outputs": [],
   "source": [
    "from bs4 import BeautifulSoup\n",
    "\n",
    "def innertext(html):\n",
    "    soup = BeautifulSoup(html, 'html.parser')\n",
    "    return soup.get_text().strip()"
   ]
  },
  {
   "cell_type": "code",
   "execution_count": 6,
   "id": "3c3630b1-8101-496b-8c7a-980c77255978",
   "metadata": {},
   "outputs": [],
   "source": [
    "html_elements = ['<p class=\"space\">\\n<strong>\\nLocation finder:\\n</strong>\\n<i class=\"icon-globe\"></i>\\n<a target=\"_blank\" href=\"http://www.ca-bc.org/meetings.html\">http://www.ca-bc.org/meetings.html</a>\\n</p>', '<p class=\"space\">\\n<strong>\\n604-662-8500\\n</strong>\\n</p>', '<p>Toll Free: 1-866-662-8300</p>', '<p>\\n<strong>\\nWebsite:\\n</strong>\\n<i class=\"icon-globe\"></i>\\n<a target=\"_blank\" href=\"https://ca-bc.org/home.html\">https://ca-bc.org/home.html</a>\\n</p>', '<p>\\n</p>', '<p class=\"space\">\\n<strong>Cost:</strong>\\nNo cost\\n</p>', '<p>\\n<b>Service area:</b>\\nProvince-wide\\n</p>']"
   ]
  },
  {
   "cell_type": "code",
   "execution_count": 7,
   "id": "5cce7fc0-d754-4803-b386-0443eb0e5328",
   "metadata": {},
   "outputs": [],
   "source": [
    "text_elements = [ innertext(html) for html in html_elements ] "
   ]
  },
  {
   "cell_type": "code",
   "execution_count": 8,
   "id": "3dd5272d-96d7-4be3-9b71-e6865979d6d6",
   "metadata": {},
   "outputs": [
    {
     "data": {
      "text/plain": [
       "['Location finder:\\n\\n\\nhttp://www.ca-bc.org/meetings.html',\n",
       " '604-662-8500',\n",
       " 'Toll Free: 1-866-662-8300',\n",
       " 'Website:\\n\\n\\nhttps://ca-bc.org/home.html',\n",
       " '',\n",
       " 'Cost:\\nNo cost',\n",
       " 'Service area:\\nProvince-wide']"
      ]
     },
     "execution_count": 8,
     "metadata": {},
     "output_type": "execute_result"
    }
   ],
   "source": [
    "text_elements"
   ]
  },
  {
   "cell_type": "code",
   "execution_count": null,
   "id": "c17a2cc0-8a69-4af1-88c8-eb2c295c607a",
   "metadata": {},
   "outputs": [],
   "source": []
  }
 ],
 "metadata": {
  "kernelspec": {
   "display_name": "Python 3 (ipykernel)",
   "language": "python",
   "name": "python3"
  },
  "language_info": {
   "codemirror_mode": {
    "name": "ipython",
    "version": 3
   },
   "file_extension": ".py",
   "mimetype": "text/x-python",
   "name": "python",
   "nbconvert_exporter": "python",
   "pygments_lexer": "ipython3",
   "version": "3.12.2"
  }
 },
 "nbformat": 4,
 "nbformat_minor": 5
}

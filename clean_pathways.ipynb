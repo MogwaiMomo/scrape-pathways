{
 "cells": [
  {
   "cell_type": "code",
   "execution_count": 1,
   "id": "6f49f48a-6af9-4b63-bc81-b75c44b8c205",
   "metadata": {},
   "outputs": [],
   "source": [
    "from jsonl2json import JsonlToJsonFormatter\n",
    "\n",
    "jsonl = JsonlToJsonFormatter('pathways.jsonl', 'pathways.json')\n",
    "jsonl.to_json()"
   ]
  },
  {
   "cell_type": "code",
   "execution_count": 2,
   "id": "e3049ce2-f505-4df4-8c6d-e9e3c0967010",
   "metadata": {},
   "outputs": [],
   "source": [
    "import json"
   ]
  },
  {
   "cell_type": "code",
   "execution_count": 3,
   "id": "683159f7-aa90-47b9-83fa-5850e035e21c",
   "metadata": {},
   "outputs": [],
   "source": [
    "import re"
   ]
  },
  {
   "cell_type": "code",
   "execution_count": 4,
   "id": "40f94d2b-f024-4c03-8b72-dbaa42e06dda",
   "metadata": {},
   "outputs": [],
   "source": [
    "import numpy as np"
   ]
  },
  {
   "cell_type": "code",
   "execution_count": 5,
   "id": "c9fc933c-ea0f-4b9c-baed-8eefd1ab2cc0",
   "metadata": {},
   "outputs": [],
   "source": [
    "from bs4 import BeautifulSoup"
   ]
  },
  {
   "cell_type": "code",
   "execution_count": 6,
   "id": "2d70e4e2-2dab-436d-89bf-9d997857ff9b",
   "metadata": {},
   "outputs": [],
   "source": [
    "import pandas as pd"
   ]
  },
  {
   "cell_type": "code",
   "execution_count": 7,
   "id": "7aef35a8-e390-4d90-a154-6e435d0e53c1",
   "metadata": {},
   "outputs": [],
   "source": [
    "with open(\"pathways.json\") as f: \n",
    "    data = json.load(f)"
   ]
  },
  {
   "cell_type": "code",
   "execution_count": 8,
   "id": "201e3954-6930-4b71-bc49-f16977106580",
   "metadata": {},
   "outputs": [],
   "source": [
    "dataf = pd.DataFrame(data)"
   ]
  },
  {
   "cell_type": "code",
   "execution_count": 9,
   "id": "b2a0fa62-92a7-476d-adf5-ac744fb2cc65",
   "metadata": {},
   "outputs": [],
   "source": [
    "# remove \\n from col_2\n",
    "dataf['name'] = dataf['name'].replace('\\n', '', regex=True)# convert col_3 to list type"
   ]
  },
  {
   "cell_type": "code",
   "execution_count": 10,
   "id": "153060ab-e6cd-4abd-8a09-c68bc9e5fe09",
   "metadata": {},
   "outputs": [],
   "source": [
    "def get_phone_numbers(row):\n",
    "    string = str(row.contact_html)\n",
    "    soup = BeautifulSoup(string, 'html.parser')\n",
    "    phone_pattern = \"(\\\\d{3}[^a-zA-Z0-9_]\\\\d{3}[^a-zA-Z0-9_]\\\\d{4})\"\n",
    "    matches = re.findall(phone_pattern, string)\n",
    "    if matches:\n",
    "        matches = [ re.sub(\"([^a-zA-Z0-9_]|[-])\", \"\", match) for match in matches ]\n",
    "        return list(set(matches))\n",
    "    else: \n",
    "        return None"
   ]
  },
  {
   "cell_type": "code",
   "execution_count": 11,
   "id": "109de29a-7b9c-4d8d-affc-6c4947308e55",
   "metadata": {},
   "outputs": [],
   "source": [
    "def get_emails(row):\n",
    "    string = str(row.contact_html)\n",
    "    soup = BeautifulSoup(string, 'html.parser')\n",
    "    links = soup.findAll('a')\n",
    "    if links:\n",
    "        emails = list()\n",
    "        for link in links:\n",
    "            url = link.get('href')\n",
    "            match = re.search(\"mailto:\", url)           \n",
    "            if match:\n",
    "                email = url.replace(\"mailto:\", \"\")\n",
    "                emails.append(email) \n",
    "        if emails:\n",
    "            return list(set(emails))\n",
    "        else:\n",
    "            return None\n",
    "    else:\n",
    "        return None"
   ]
  },
  {
   "cell_type": "code",
   "execution_count": 12,
   "id": "5fb4a917-e12e-4cfa-a6aa-e2645edc408a",
   "metadata": {},
   "outputs": [],
   "source": [
    "def get_locations(row):\n",
    "    string = str(row.contact_html)\n",
    "    soup = BeautifulSoup(string, 'html.parser')\n",
    "    links = soup.findAll('a')\n",
    "    if links:\n",
    "        locations = list()\n",
    "        for link in links:\n",
    "            url = link.get('href')\n",
    "            match = re.search(\"https://maps.google.com\", url)\n",
    "            if match:\n",
    "                locations.append(url)\n",
    "        if locations:\n",
    "            return list(set(locations))\n",
    "        else:\n",
    "            return None\n",
    "    else:\n",
    "        return None\n"
   ]
  },
  {
   "cell_type": "code",
   "execution_count": 13,
   "id": "52617097-b000-42e5-a127-1d9395399dd2",
   "metadata": {},
   "outputs": [],
   "source": [
    "def get_websites(row):\n",
    "    string = str(row.contact_html)\n",
    "    soup = BeautifulSoup(string, 'html.parser')\n",
    "    links = soup.findAll('a')\n",
    "    if links:\n",
    "        urls = list()\n",
    "        for link in links:\n",
    "            url = link.get('href')\n",
    "            match1 = re.search(\"https://maps.google.com\", url)\n",
    "            match2 = re.search(\"mailto:\", url)\n",
    "            if not match1 and not match2:\n",
    "                if not re.match(r\"^/\", url):\n",
    "                    urls.append(url)\n",
    "        if urls:\n",
    "            return list(set(urls))\n",
    "        else:\n",
    "            return None\n",
    "    else:\n",
    "        return None"
   ]
  },
  {
   "cell_type": "code",
   "execution_count": 14,
   "id": "83779636-f847-4f0e-a0c7-8f717cda030c",
   "metadata": {},
   "outputs": [],
   "source": [
    "dataf['phone_numbers'] = dataf.apply(lambda row: get_phone_numbers(row), axis=1)\n",
    "dataf['emails'] = dataf.apply(lambda row: get_emails(row), axis=1)\n",
    "dataf['location_maps'] = dataf.apply(lambda row: get_locations(row), axis=1)\n",
    "dataf['websites'] = dataf.apply(lambda row: get_websites(row), axis=1)"
   ]
  },
  {
   "cell_type": "code",
   "execution_count": 15,
   "id": "9532f655-538e-4f3a-ae67-b3bf886f3285",
   "metadata": {},
   "outputs": [],
   "source": [
    "data_all = dataf.drop(['contact_html'], axis=1)"
   ]
  },
  {
   "cell_type": "code",
   "execution_count": 16,
   "id": "d7035fa3-5d59-47ca-a25f-13b117926cc8",
   "metadata": {},
   "outputs": [],
   "source": [
    "data_all = data_all.explode('description')"
   ]
  },
  {
   "cell_type": "code",
   "execution_count": 17,
   "id": "79396ab4-00cd-46e1-a2b2-20e4948815e9",
   "metadata": {},
   "outputs": [],
   "source": [
    "data_all.fillna(\"\", inplace=True)"
   ]
  },
  {
   "cell_type": "code",
   "execution_count": 18,
   "id": "5ffcc280-3226-42a8-b118-08e2e417389e",
   "metadata": {},
   "outputs": [],
   "source": [
    "data_all['category'] = data_all['category'].apply(', '.join)\n",
    "data_all['phone_numbers'] = data_all['phone_numbers'].apply(', '.join)\n",
    "data_all['emails'] = data_all['emails'].apply(', '.join)\n",
    "data_all['location_maps'] = data_all['location_maps'].apply(', '.join)\n",
    "data_all['websites'] = data_all['websites'].apply(', '.join)\n",
    "data_all = data_all[['name', 'description', 'category', 'phone_numbers', 'emails', 'websites', 'location_maps', 'url']]"
   ]
  },
  {
   "cell_type": "code",
   "execution_count": 19,
   "id": "c6771ad8-458c-4fca-ac2a-d16022cb3d93",
   "metadata": {},
   "outputs": [],
   "source": [
    "import gspread\n",
    "\n",
    "gc = gspread.oauth()\n",
    "sh = gc.open('MHRPSI System Navigation Knowledgebase')\n",
    "worksheet = sh.worksheet(\"Pathways Resources\")"
   ]
  },
  {
   "cell_type": "code",
   "execution_count": 65,
   "id": "e8c54da4-fd36-4da5-896d-87e763e4705f",
   "metadata": {},
   "outputs": [],
   "source": [
    "pathways_topics = sorted(list(pd.melt(data_all.category.str.split(\",\", expand=True)).value.str.strip().dropna().unique()))\n",
    "pathways_topics.remove('')"
   ]
  },
  {
   "cell_type": "code",
   "execution_count": 72,
   "id": "8eeddf26-23f6-4ef5-a674-0e07147c7ef1",
   "metadata": {},
   "outputs": [],
   "source": [
    "pathways_topics_df = pd.DataFrame(pathways_topics, columns=[\"Pathways Topic\"])"
   ]
  },
  {
   "cell_type": "code",
   "execution_count": 73,
   "id": "d381a310-94ed-44d7-bebd-78b3e4a0fa27",
   "metadata": {},
   "outputs": [
    {
     "data": {
      "text/html": [
       "<div>\n",
       "<style scoped>\n",
       "    .dataframe tbody tr th:only-of-type {\n",
       "        vertical-align: middle;\n",
       "    }\n",
       "\n",
       "    .dataframe tbody tr th {\n",
       "        vertical-align: top;\n",
       "    }\n",
       "\n",
       "    .dataframe thead th {\n",
       "        text-align: right;\n",
       "    }\n",
       "</style>\n",
       "<table border=\"1\" class=\"dataframe\">\n",
       "  <thead>\n",
       "    <tr style=\"text-align: right;\">\n",
       "      <th></th>\n",
       "      <th>Pathways Topic</th>\n",
       "    </tr>\n",
       "  </thead>\n",
       "  <tbody>\n",
       "    <tr>\n",
       "      <th>0</th>\n",
       "      <td>Abuse / Neglect</td>\n",
       "    </tr>\n",
       "    <tr>\n",
       "      <th>1</th>\n",
       "      <td>Addictions / Substance Use</td>\n",
       "    </tr>\n",
       "    <tr>\n",
       "      <th>2</th>\n",
       "      <td>Advocacy</td>\n",
       "    </tr>\n",
       "    <tr>\n",
       "      <th>3</th>\n",
       "      <td>Cancer Care</td>\n",
       "    </tr>\n",
       "    <tr>\n",
       "      <th>4</th>\n",
       "      <td>Caregiver Support</td>\n",
       "    </tr>\n",
       "    <tr>\n",
       "      <th>5</th>\n",
       "      <td>Child Services</td>\n",
       "    </tr>\n",
       "    <tr>\n",
       "      <th>6</th>\n",
       "      <td>Condition Specific Support</td>\n",
       "    </tr>\n",
       "    <tr>\n",
       "      <th>7</th>\n",
       "      <td>Disability Services</td>\n",
       "    </tr>\n",
       "    <tr>\n",
       "      <th>8</th>\n",
       "      <td>Education</td>\n",
       "    </tr>\n",
       "    <tr>\n",
       "      <th>9</th>\n",
       "      <td>Employment</td>\n",
       "    </tr>\n",
       "    <tr>\n",
       "      <th>10</th>\n",
       "      <td>End of Life Care / Palliative Care</td>\n",
       "    </tr>\n",
       "    <tr>\n",
       "      <th>11</th>\n",
       "      <td>Family / Parenting</td>\n",
       "    </tr>\n",
       "    <tr>\n",
       "      <th>12</th>\n",
       "      <td>Financial</td>\n",
       "    </tr>\n",
       "    <tr>\n",
       "      <th>13</th>\n",
       "      <td>Food</td>\n",
       "    </tr>\n",
       "    <tr>\n",
       "      <th>14</th>\n",
       "      <td>Healthcare Providers</td>\n",
       "    </tr>\n",
       "    <tr>\n",
       "      <th>15</th>\n",
       "      <td>Home Health Care</td>\n",
       "    </tr>\n",
       "    <tr>\n",
       "      <th>16</th>\n",
       "      <td>Housing / Shelter</td>\n",
       "    </tr>\n",
       "    <tr>\n",
       "      <th>17</th>\n",
       "      <td>Immigrant and Refugee Services</td>\n",
       "    </tr>\n",
       "    <tr>\n",
       "      <th>18</th>\n",
       "      <td>Indigenous Services</td>\n",
       "    </tr>\n",
       "    <tr>\n",
       "      <th>19</th>\n",
       "      <td>LGBT2Q+ Community</td>\n",
       "    </tr>\n",
       "    <tr>\n",
       "      <th>20</th>\n",
       "      <td>Legal</td>\n",
       "    </tr>\n",
       "    <tr>\n",
       "      <th>21</th>\n",
       "      <td>Medical Equipment</td>\n",
       "    </tr>\n",
       "    <tr>\n",
       "      <th>22</th>\n",
       "      <td>Medication</td>\n",
       "    </tr>\n",
       "    <tr>\n",
       "      <th>23</th>\n",
       "      <td>Mental Health - Adult &amp; Senior</td>\n",
       "    </tr>\n",
       "    <tr>\n",
       "      <th>24</th>\n",
       "      <td>Mental Health - Child &amp; Youth</td>\n",
       "    </tr>\n",
       "    <tr>\n",
       "      <th>25</th>\n",
       "      <td>Multicultural Services</td>\n",
       "    </tr>\n",
       "    <tr>\n",
       "      <th>26</th>\n",
       "      <td>Pain Management</td>\n",
       "    </tr>\n",
       "    <tr>\n",
       "      <th>27</th>\n",
       "      <td>Pregnancy Care</td>\n",
       "    </tr>\n",
       "    <tr>\n",
       "      <th>28</th>\n",
       "      <td>Public Health</td>\n",
       "    </tr>\n",
       "    <tr>\n",
       "      <th>29</th>\n",
       "      <td>Seniors Services</td>\n",
       "    </tr>\n",
       "    <tr>\n",
       "      <th>30</th>\n",
       "      <td>Sexual Health</td>\n",
       "    </tr>\n",
       "    <tr>\n",
       "      <th>31</th>\n",
       "      <td>Social / Recreational</td>\n",
       "    </tr>\n",
       "    <tr>\n",
       "      <th>32</th>\n",
       "      <td>Transportation</td>\n",
       "    </tr>\n",
       "    <tr>\n",
       "      <th>33</th>\n",
       "      <td>Victim Services</td>\n",
       "    </tr>\n",
       "    <tr>\n",
       "      <th>34</th>\n",
       "      <td>Volunteering</td>\n",
       "    </tr>\n",
       "    <tr>\n",
       "      <th>35</th>\n",
       "      <td>Youth Services</td>\n",
       "    </tr>\n",
       "  </tbody>\n",
       "</table>\n",
       "</div>"
      ],
      "text/plain": [
       "                        Pathways Topic\n",
       "0                      Abuse / Neglect\n",
       "1           Addictions / Substance Use\n",
       "2                             Advocacy\n",
       "3                          Cancer Care\n",
       "4                    Caregiver Support\n",
       "5                       Child Services\n",
       "6           Condition Specific Support\n",
       "7                  Disability Services\n",
       "8                            Education\n",
       "9                           Employment\n",
       "10  End of Life Care / Palliative Care\n",
       "11                  Family / Parenting\n",
       "12                           Financial\n",
       "13                                Food\n",
       "14                Healthcare Providers\n",
       "15                    Home Health Care\n",
       "16                   Housing / Shelter\n",
       "17      Immigrant and Refugee Services\n",
       "18                 Indigenous Services\n",
       "19                   LGBT2Q+ Community\n",
       "20                               Legal\n",
       "21                   Medical Equipment\n",
       "22                          Medication\n",
       "23      Mental Health - Adult & Senior\n",
       "24       Mental Health - Child & Youth\n",
       "25              Multicultural Services\n",
       "26                     Pain Management\n",
       "27                      Pregnancy Care\n",
       "28                       Public Health\n",
       "29                    Seniors Services\n",
       "30                       Sexual Health\n",
       "31               Social / Recreational\n",
       "32                      Transportation\n",
       "33                     Victim Services\n",
       "34                        Volunteering\n",
       "35                      Youth Services"
      ]
     },
     "execution_count": 73,
     "metadata": {},
     "output_type": "execute_result"
    }
   ],
   "source": [
    "pathways_topics_df"
   ]
  },
  {
   "cell_type": "code",
   "execution_count": 67,
   "id": "e9d36c42-6dce-441c-90e4-944273b68fcd",
   "metadata": {},
   "outputs": [],
   "source": [
    "# export topic list to GSheets\n",
    "pathways_topic_sheet = sh.add_worksheet(title=\"pathways_topics\", rows=1000, cols=20)\n"
   ]
  },
  {
   "cell_type": "code",
   "execution_count": 74,
   "id": "6fc75ef9-20aa-4e44-8d22-b0cf68bf5f5b",
   "metadata": {},
   "outputs": [
    {
     "data": {
      "text/plain": [
       "{'spreadsheetId': '1ekjejbzWvCucQk4t0xfJFJaqXXW0fGPEgz-LHGBfJg0',\n",
       " 'updatedRange': 'pathways_topics!A1:A37',\n",
       " 'updatedRows': 37,\n",
       " 'updatedColumns': 1,\n",
       " 'updatedCells': 37}"
      ]
     },
     "execution_count": 74,
     "metadata": {},
     "output_type": "execute_result"
    }
   ],
   "source": [
    "pathways_topic_sheet.update([pathways_topics_df.columns.values.tolist()] + pathways_topics_df.values.tolist())\n"
   ]
  },
  {
   "cell_type": "code",
   "execution_count": null,
   "id": "8851b8cc-a4ac-4d9c-9e00-10e010cb1857",
   "metadata": {},
   "outputs": [],
   "source": []
  }
 ],
 "metadata": {
  "kernelspec": {
   "display_name": "Python 3 (ipykernel)",
   "language": "python",
   "name": "python3"
  },
  "language_info": {
   "codemirror_mode": {
    "name": "ipython",
    "version": 3
   },
   "file_extension": ".py",
   "mimetype": "text/x-python",
   "name": "python",
   "nbconvert_exporter": "python",
   "pygments_lexer": "ipython3",
   "version": "3.12.2"
  }
 },
 "nbformat": 4,
 "nbformat_minor": 5
}

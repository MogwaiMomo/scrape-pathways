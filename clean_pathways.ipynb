{
 "cells": [
  {
   "cell_type": "code",
   "execution_count": 1,
   "id": "6f49f48a-6af9-4b63-bc81-b75c44b8c205",
   "metadata": {},
   "outputs": [],
   "source": [
    "from jsonl2json import JsonlToJsonFormatter\n",
    "\n",
    "jsonl = JsonlToJsonFormatter('pathways.jsonl', 'pathways.json')\n",
    "jsonl.to_json()"
   ]
  },
  {
   "cell_type": "code",
   "execution_count": null,
   "id": "e3049ce2-f505-4df4-8c6d-e9e3c0967010",
   "metadata": {},
   "outputs": [],
   "source": []
  }
 ],
 "metadata": {
  "kernelspec": {
   "display_name": "Python 3 (ipykernel)",
   "language": "python",
   "name": "python3"
  },
  "language_info": {
   "codemirror_mode": {
    "name": "ipython",
    "version": 3
   },
   "file_extension": ".py",
   "mimetype": "text/x-python",
   "name": "python",
   "nbconvert_exporter": "python",
   "pygments_lexer": "ipython3",
   "version": "3.12.2"
  }
 },
 "nbformat": 4,
 "nbformat_minor": 5
}
